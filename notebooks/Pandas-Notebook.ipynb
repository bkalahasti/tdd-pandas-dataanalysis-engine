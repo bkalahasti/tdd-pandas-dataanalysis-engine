{
 "cells": [
  {
   "cell_type": "markdown",
   "metadata": {
    "collapsed": true
   },
   "source": [
    "### This is a Pandas Descriptive Statistics instance method example for df.mean method.\n",
    "\n",
    "This is an example of code that reduces the columns to produce column means. "
   ]
  },
  {
   "cell_type": "code",
   "execution_count": 7,
   "metadata": {},
   "outputs": [
    {
     "name": "stdout",
     "output_type": "stream",
     "text": [
      "DataFrame df mean over coumns: \n",
      " 0    53.68\n",
      "1    44.60\n",
      "2    48.56\n",
      "3    54.80\n",
      "dtype: float64\n"
     ]
    }
   ],
   "source": [
    "import pandas as pd\n",
    "import numpy as np\n",
    "\n",
    "df = pd.DataFrame(np.random.randint(0, 100, size=100).reshape(25, 4))\n",
    "\n",
    "print(\"DataFrame df mean over coumns: \\n\", df.mean(axis=0))\n"
   ]
  },
  {
   "cell_type": "markdown",
   "metadata": {},
   "source": [
    "### This is a Pandas Correlation and Covariance instance method example on a DataFrame against a Series.\n",
    "\n",
    "This is a Pandas Correlation instance method example on a DataFrame against a Series. "
   ]
  },
  {
   "cell_type": "code",
   "execution_count": 8,
   "metadata": {},
   "outputs": [
    {
     "name": "stdout",
     "output_type": "stream",
     "text": [
      "Correlation of df with s: \n",
      " 0   -0.026178\n",
      "1    0.092453\n",
      "2   -0.031050\n",
      "3    0.377164\n",
      "dtype: float64\n",
      "Full correlation matrix of df: \n",
      "           0         1         2         3\n",
      "0  1.000000  0.113891 -0.001170  0.110290\n",
      "1  0.113891  1.000000 -0.159194  0.105572\n",
      "2 -0.001170 -0.159194  1.000000 -0.086300\n",
      "3  0.110290  0.105572 -0.086300  1.000000\n",
      "Full covariance matrix of df: \n",
      "             0           1           2           3\n",
      "0  748.706667   84.783333   -0.990000   93.240000\n",
      "1   84.783333  740.166667 -133.908333   88.741667\n",
      "2   -0.990000 -133.908333  955.940000  -82.440000\n",
      "3   93.240000   88.741667  -82.440000  954.606667\n"
     ]
    }
   ],
   "source": [
    "import pandas as pd\n",
    "import numpy as np\n",
    "\n",
    "df = pd.DataFrame(np.random.randint(0, 100, size=100).reshape(25, 4))\n",
    "\n",
    "s = pd.Series(np.random.randint(0, 100, size=25))\n",
    "\n",
    "print(\"Correlation of df with s: \\n\", df.corrwith(s))\n",
    "\n",
    "print(\"Full correlation matrix of df: \\n\", df.corr())\n",
    "print(\"Full covariance matrix of df: \\n\", df.cov())"
   ]
  },
  {
   "cell_type": "markdown",
   "metadata": {},
   "source": [
    "### This is a Pandas Outlier detection example on a DataFrame. "
   ]
  },
  {
   "cell_type": "code",
   "execution_count": 12,
   "metadata": {},
   "outputs": [
    {
     "name": "stdout",
     "output_type": "stream",
     "text": [
      "Summary statistics for df: \n",
      "                  0            1            2            3\n",
      "count  1000.000000  1000.000000  1000.000000  1000.000000\n",
      "mean     -0.098034     0.026421    -0.060558     0.024479\n",
      "std       0.994870     1.022997     0.963600     0.967410\n",
      "min      -2.666419    -3.618096    -2.807032    -2.821454\n",
      "25%      -0.772110    -0.690961    -0.705504    -0.643321\n",
      "50%      -0.082234     0.090098    -0.059449     0.029626\n",
      "75%       0.626542     0.698173     0.572133     0.672263\n",
      "max       2.583921     3.532017     2.839677     3.188268\n",
      "Outliers in column 3 exceeding 1: \n",
      " 640    3.188268\n",
      "Name: 3, dtype: float64\n"
     ]
    }
   ],
   "source": [
    "import pandas as pd\n",
    "import numpy as np\n",
    "\n",
    "df = pd.DataFrame(np.random.randn(1000, 4))\n",
    "print(\"Summary statistics for df: \\n\", df.describe())\n",
    "\n",
    "col = df[3]\n",
    "print(\"Outliers in column 3 exceeding 1: \\n\", col[np.abs(col) > 3])\n"
   ]
  },
  {
   "cell_type": "markdown",
   "metadata": {},
   "source": [
    "### This is a Pandas Binning example on a Series. \n",
    "This is a Pandas Binning example on a Series. "
   ]
  },
  {
   "cell_type": "code",
   "execution_count": 4,
   "metadata": {},
   "outputs": [
    {
     "name": "stdout",
     "output_type": "stream",
     "text": [
      "Categories from binning of s: \n",
      " 0       (24.75, 49.5]\n",
      "1       (24.75, 49.5]\n",
      "2       (24.75, 49.5]\n",
      "3       (24.75, 49.5]\n",
      "4       (49.5, 74.25]\n",
      "5       (24.75, 49.5]\n",
      "6       (24.75, 49.5]\n",
      "7       (24.75, 49.5]\n",
      "8       (24.75, 49.5]\n",
      "9       (74.25, 99.0]\n",
      "10      (24.75, 49.5]\n",
      "11      (49.5, 74.25]\n",
      "12    (-0.099, 24.75]\n",
      "13      (74.25, 99.0]\n",
      "14    (-0.099, 24.75]\n",
      "15      (74.25, 99.0]\n",
      "16      (74.25, 99.0]\n",
      "17      (24.75, 49.5]\n",
      "18      (49.5, 74.25]\n",
      "19    (-0.099, 24.75]\n",
      "20      (24.75, 49.5]\n",
      "21      (74.25, 99.0]\n",
      "22      (24.75, 49.5]\n",
      "23      (24.75, 49.5]\n",
      "24      (24.75, 49.5]\n",
      "25      (74.25, 99.0]\n",
      "26      (24.75, 49.5]\n",
      "27      (24.75, 49.5]\n",
      "28      (49.5, 74.25]\n",
      "29    (-0.099, 24.75]\n",
      "           ...       \n",
      "70      (49.5, 74.25]\n",
      "71    (-0.099, 24.75]\n",
      "72      (49.5, 74.25]\n",
      "73    (-0.099, 24.75]\n",
      "74    (-0.099, 24.75]\n",
      "75      (49.5, 74.25]\n",
      "76      (24.75, 49.5]\n",
      "77      (24.75, 49.5]\n",
      "78      (49.5, 74.25]\n",
      "79      (49.5, 74.25]\n",
      "80      (74.25, 99.0]\n",
      "81      (74.25, 99.0]\n",
      "82      (74.25, 99.0]\n",
      "83      (24.75, 49.5]\n",
      "84      (24.75, 49.5]\n",
      "85      (74.25, 99.0]\n",
      "86    (-0.099, 24.75]\n",
      "87      (74.25, 99.0]\n",
      "88      (24.75, 49.5]\n",
      "89      (49.5, 74.25]\n",
      "90      (74.25, 99.0]\n",
      "91    (-0.099, 24.75]\n",
      "92      (24.75, 49.5]\n",
      "93      (49.5, 74.25]\n",
      "94    (-0.099, 24.75]\n",
      "95      (24.75, 49.5]\n",
      "96      (24.75, 49.5]\n",
      "97      (49.5, 74.25]\n",
      "98      (74.25, 99.0]\n",
      "99      (24.75, 49.5]\n",
      "Length: 100, dtype: category\n",
      "Categories (4, interval[float64]): [(-0.099, 24.75] < (24.75, 49.5] < (49.5, 74.25] < (74.25, 99.0]]\n",
      "Vale Counts from Categorization of s: \n",
      " (24.75, 49.5]      32\n",
      "(49.5, 74.25]      24\n",
      "(74.25, 99.0]      22\n",
      "(-0.099, 24.75]    22\n",
      "dtype: int64\n"
     ]
    }
   ],
   "source": [
    "import pandas as pd\n",
    "import numpy as np\n",
    "\n",
    "s = pd.Series(np.random.randint(0, 100, size=100))\n",
    "cats = pd.cut(s, 4, precision=2)\n",
    "print(\"Categories from binning of s: \\n\", cats)\n",
    "print(\"Vale Counts from Categorization of s: \\n\", pd.value_counts(cats))"
   ]
  },
  {
   "cell_type": "markdown",
   "metadata": {},
   "source": [
    "### This is a Pandas Sampling-Without-Replacement example with a DataFrame. \n",
    "This is a Pandas Sampling-Without-Replacement example with a DataFrame. "
   ]
  },
  {
   "cell_type": "code",
   "execution_count": 5,
   "metadata": {},
   "outputs": [
    {
     "name": "stdout",
     "output_type": "stream",
     "text": [
      "Sample without replacement from df: \n",
      "      0   1   2   3\n",
      "21  84  85  86  87\n",
      "5   20  21  22  23\n",
      "14  56  57  58  59\n",
      "6   24  25  26  27\n",
      "9   36  37  38  39\n",
      "17  68  69  70  71\n",
      "4   16  17  18  19\n",
      "22  88  89  90  91\n",
      "24  96  97  98  99\n",
      "2    8   9  10  11\n",
      "15  60  61  62  63\n",
      "23  92  93  94  95\n",
      "19  76  77  78  79\n",
      "11  44  45  46  47\n",
      "8   32  33  34  35\n",
      "1    4   5   6   7\n",
      "13  52  53  54  55\n",
      "7   28  29  30  31\n",
      "20  80  81  82  83\n",
      "3   12  13  14  15\n",
      "0    0   1   2   3\n",
      "12  48  49  50  51\n",
      "10  40  41  42  43\n",
      "18  72  73  74  75\n",
      "16  64  65  66  67\n"
     ]
    }
   ],
   "source": [
    "import pandas as pd\n",
    "import numpy as np\n",
    "\n",
    "df = pd.DataFrame(np.arange(100).reshape(25,4))\n",
    "sampler = np.random.permutation(25)\n",
    "print(\"Sample without replacement from df: \\n\", df.take(sampler))\n"
   ]
  }
 ],
 "metadata": {
  "kernelspec": {
   "display_name": "Python 3",
   "language": "python",
   "name": "python3"
  },
  "language_info": {
   "codemirror_mode": {
    "name": "ipython",
    "version": 3
   },
   "file_extension": ".py",
   "mimetype": "text/x-python",
   "name": "python",
   "nbconvert_exporter": "python",
   "pygments_lexer": "ipython3",
   "version": "3.6.2"
  }
 },
 "nbformat": 4,
 "nbformat_minor": 2
}
